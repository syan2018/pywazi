{
 "cells": [
  {
   "cell_type": "code",
   "execution_count": 2,
   "metadata": {},
   "outputs": [
    {
     "name": "stdout",
     "output_type": "stream",
     "text": [
      "<module 'pywazi' from 'c:\\\\Users\\\\Syan\\\\Documents\\\\GitHub\\\\pywazi\\\\my_spider\\\\..\\\\pywazi.py'>\n"
     ]
    }
   ],
   "source": [
    "import sys \n",
    "sys.path.append(\"..\") \n",
    "import pywazi\n",
    "\n",
    "from pywazi import *\n",
    "\n",
    "print(pywazi)"
   ]
  },
  {
   "cell_type": "code",
   "execution_count": 3,
   "metadata": {},
   "outputs": [
    {
     "data": {
      "text/plain": [
       "{'useProxies': True,\n",
       " 'proxyAddress': '127.0.0.1',\n",
       " 'proxyPort': 7890,\n",
       " 'useHeaders': True,\n",
       " 'headers': {'User-Agent': 'Mozilla/5.0 (Windows NT 10.0; Win64; x64) AppleWebKit/537.36 (KHTML, like Gecko) Chrome/80.0.3987.132 Safari/537.36',\n",
       "  'Accept': 'text/html,application/xhtml+xml,application/xml;q=0.9,image/webp,image/apng,*/*;q=0.8,application/signed-exchange;v=b3;q=0.9',\n",
       "  'Accept-Language': 'zh-CN,zh;q=0.9,en;q=0.8',\n",
       "  'Connection': 'keep-alive',\n",
       "  'Upgrade-Insecure-Requests': '1'}}"
      ]
     },
     "execution_count": 3,
     "metadata": {},
     "output_type": "execute_result"
    }
   ],
   "source": [
    "waziMain.globalParamsByFile(\"../params.json\")"
   ]
  },
  {
   "cell_type": "code",
   "execution_count": 4,
   "metadata": {},
   "outputs": [
    {
     "data": {
      "text/plain": [
       "{'post': '/posts.json',\n",
       " 'tag': '/tag.json',\n",
       " 'artist': '/artist.json',\n",
       " 'comment': '/comment/show.json',\n",
       " 'pool': '/pool.json',\n",
       " 'poolShow': '/pool/show.json',\n",
       " 'poolZip': '/pool/zip/'}"
      ]
     },
     "execution_count": 4,
     "metadata": {},
     "output_type": "execute_result"
    }
   ],
   "source": [
    "waziDanbooru.setApi(\"https://danbooru.donmai.us\")\n",
    "\n",
    "waziDanbooru.setPort(\"post\", \"/posts.json\")\n"
   ]
  },
  {
   "cell_type": "code",
   "execution_count": 5,
   "metadata": {},
   "outputs": [
    {
     "data": {
      "text/plain": [
       "[{'id': 5867738,\n",
       "  'created_at': '2022-12-02T09:45:16.387-05:00',\n",
       "  'uploader_id': 913940,\n",
       "  'score': 8,\n",
       "  'source': 'https://twitter.com/asteroid_ill/status/1598633870089662464',\n",
       "  'md5': '529e9156475cea338146a0aa929bbaaa',\n",
       "  'last_comment_bumped_at': None,\n",
       "  'rating': 'g',\n",
       "  'image_width': 2685,\n",
       "  'image_height': 4096,\n",
       "  'tag_string': '1girl absurdres area_zero asteroid_ill backpack bag black_socks blue_shorts braid brown_bag brown_hair bug day full_body glaceon grass hat highres iron_bundle iron_moth juliana_(pokemon) kneehighs long_sleeves looking_away looking_up medium_hair outdoors paradox_pokemon pokemon pokemon_(creature) pokemon_(game) pokemon_sv shirt shorts side_braid single_braid socks solo standing uva_academy_uniform vest water waterfall white_headwear white_shirt yellow_vest',\n",
       "  'fav_count': 6,\n",
       "  'file_ext': 'jpg',\n",
       "  'last_noted_at': None,\n",
       "  'parent_id': None,\n",
       "  'has_children': False,\n",
       "  'approver_id': None,\n",
       "  'tag_count_general': 36,\n",
       "  'tag_count_artist': 1,\n",
       "  'tag_count_character': 4,\n",
       "  'tag_count_copyright': 3,\n",
       "  'file_size': 3090432,\n",
       "  'up_score': 8,\n",
       "  'down_score': 0,\n",
       "  'is_pending': False,\n",
       "  'is_flagged': False,\n",
       "  'is_deleted': False,\n",
       "  'tag_count': 46,\n",
       "  'updated_at': '2022-12-02T19:11:41.343-05:00',\n",
       "  'is_banned': False,\n",
       "  'pixiv_id': None,\n",
       "  'last_commented_at': None,\n",
       "  'has_active_children': False,\n",
       "  'bit_flags': 0,\n",
       "  'tag_count_meta': 2,\n",
       "  'has_large': True,\n",
       "  'has_visible_children': False,\n",
       "  'tag_string_general': '1girl area_zero backpack bag black_socks blue_shorts braid brown_bag brown_hair bug day full_body grass hat kneehighs long_sleeves looking_away looking_up medium_hair outdoors paradox_pokemon pokemon_(creature) shirt shorts side_braid single_braid socks solo standing uva_academy_uniform vest water waterfall white_headwear white_shirt yellow_vest',\n",
       "  'tag_string_character': 'glaceon iron_bundle iron_moth juliana_(pokemon)',\n",
       "  'tag_string_copyright': 'pokemon pokemon_(game) pokemon_sv',\n",
       "  'tag_string_artist': 'asteroid_ill',\n",
       "  'tag_string_meta': 'absurdres highres',\n",
       "  'file_url': 'https://cdn.donmai.us/original/52/9e/529e9156475cea338146a0aa929bbaaa.jpg',\n",
       "  'large_file_url': 'https://cdn.donmai.us/sample/52/9e/sample-529e9156475cea338146a0aa929bbaaa.jpg',\n",
       "  'preview_file_url': 'https://cdn.donmai.us/preview/52/9e/529e9156475cea338146a0aa929bbaaa.jpg'}]"
      ]
     },
     "execution_count": 5,
     "metadata": {},
     "output_type": "execute_result"
    }
   ],
   "source": [
    "waziLog.setMinDisplayLevel(-1)\n",
    "\n",
    "waziDanbooru.getPosts(\n",
    "    page  = 1,                               # 页码 从 1 开始\n",
    "    tags  = \"asteroid_ill\",                  # 标签 没有就写空字符串\n",
    "    limit = 1\n",
    ")"
   ]
  },
  {
   "cell_type": "code",
   "execution_count": 9,
   "metadata": {},
   "outputs": [
    {
     "data": {
      "text/plain": [
       "(['./download/Asteroid\\\\4330799.jpg',\n",
       "  './download/Asteroid\\\\4324789.jpg',\n",
       "  './download/Asteroid\\\\4324788.jpg',\n",
       "  './download/Asteroid\\\\4321551.jpg',\n",
       "  './download/Asteroid\\\\4314807.jpg',\n",
       "  './download/Asteroid\\\\4307505.jpg',\n",
       "  './download/Asteroid\\\\4299147.png',\n",
       "  './download/Asteroid\\\\4298656.jpg',\n",
       "  './download/Asteroid\\\\4294966.jpg',\n",
       "  './download/Asteroid\\\\4294912.jpg',\n",
       "  './download/Asteroid\\\\4294905.jpg',\n",
       "  './download/Asteroid\\\\4294889.jpg',\n",
       "  './download/Asteroid\\\\4294886.jpg',\n",
       "  './download/Asteroid\\\\4283976.jpg',\n",
       "  './download/Asteroid\\\\4283186.jpg',\n",
       "  './download/Asteroid\\\\4276074.png',\n",
       "  './download/Asteroid\\\\4276073.jpg',\n",
       "  './download/Asteroid\\\\4273196.mp4',\n",
       "  './download/Asteroid\\\\4273176.jpg',\n",
       "  './download/Asteroid\\\\4273170.jpg',\n",
       "  './download/Asteroid\\\\4273159.jpg',\n",
       "  './download/Asteroid\\\\4273157.jpg',\n",
       "  './download/Asteroid\\\\4273155.jpg',\n",
       "  './download/Asteroid\\\\4273146.jpg',\n",
       "  './download/Asteroid\\\\4273048.jpg',\n",
       "  './download/Asteroid\\\\4273040.jpg',\n",
       "  './download/Asteroid\\\\4273035.jpg',\n",
       "  './download/Asteroid\\\\4273029.jpg',\n",
       "  './download/Asteroid\\\\4271635.jpg',\n",
       "  './download/Asteroid\\\\4260662.jpg',\n",
       "  './download/Asteroid\\\\4255029.mp4',\n",
       "  './download/Asteroid\\\\4252781.jpg',\n",
       "  './download/Asteroid\\\\4250627.jpg',\n",
       "  './download/Asteroid\\\\4250613.jpg',\n",
       "  './download/Asteroid\\\\4250612.jpg',\n",
       "  './download/Asteroid\\\\4238876.jpg',\n",
       "  './download/Asteroid\\\\4233910.jpg',\n",
       "  './download/Asteroid\\\\4227559.png',\n",
       "  './download/Asteroid\\\\4227558.png',\n",
       "  './download/Asteroid\\\\4227557.png',\n",
       "  './download/Asteroid\\\\4227556.png',\n",
       "  './download/Asteroid\\\\4227555.png',\n",
       "  './download/Asteroid\\\\4227554.png',\n",
       "  './download/Asteroid\\\\4227017.jpg',\n",
       "  './download/Asteroid\\\\4221944.jpg',\n",
       "  './download/Asteroid\\\\4221930.jpg',\n",
       "  './download/Asteroid\\\\4219665.jpg',\n",
       "  './download/Asteroid\\\\4219608.jpg',\n",
       "  './download/Asteroid\\\\4194622.jpg',\n",
       "  './download/Asteroid\\\\4179154.jpg',\n",
       "  './download/Asteroid\\\\4166440.jpg',\n",
       "  './download/Asteroid\\\\4155462.jpg',\n",
       "  './download/Asteroid\\\\4151685.jpg',\n",
       "  './download/Asteroid\\\\4151628.png',\n",
       "  './download/Asteroid\\\\4149848.jpg',\n",
       "  './download/Asteroid\\\\4146766.jpg',\n",
       "  './download/Asteroid\\\\4143318.jpg',\n",
       "  './download/Asteroid\\\\4143309.jpg',\n",
       "  './download/Asteroid\\\\4143298.jpg',\n",
       "  './download/Asteroid\\\\4143268.jpg',\n",
       "  './download/Asteroid\\\\4142848.png',\n",
       "  './download/Asteroid\\\\4142847.png',\n",
       "  './download/Asteroid\\\\4142846.png',\n",
       "  './download/Asteroid\\\\4142845.png',\n",
       "  './download/Asteroid\\\\4142844.png',\n",
       "  './download/Asteroid\\\\4142843.png',\n",
       "  './download/Asteroid\\\\4142842.png',\n",
       "  './download/Asteroid\\\\4142840.png',\n",
       "  './download/Asteroid\\\\4139611.jpg',\n",
       "  './download/Asteroid\\\\4139042.jpg',\n",
       "  './download/Asteroid\\\\4139041.jpg',\n",
       "  './download/Asteroid\\\\4139040.jpg',\n",
       "  './download/Asteroid\\\\4132611.jpg',\n",
       "  './download/Asteroid\\\\4132589.jpg',\n",
       "  './download/Asteroid\\\\4132574.jpg',\n",
       "  './download/Asteroid\\\\4132551.jpg',\n",
       "  './download/Asteroid\\\\4132540.jpg',\n",
       "  './download/Asteroid\\\\4132531.jpg',\n",
       "  './download/Asteroid\\\\4132526.jpg',\n",
       "  './download/Asteroid\\\\4119773.jpg',\n",
       "  './download/Asteroid\\\\4106280.jpg',\n",
       "  './download/Asteroid\\\\4101923.jpg',\n",
       "  './download/Asteroid\\\\4101909.jpg',\n",
       "  './download/Asteroid\\\\4101905.jpg',\n",
       "  './download/Asteroid\\\\4101891.jpg',\n",
       "  './download/Asteroid\\\\4101884.jpg',\n",
       "  './download/Asteroid\\\\4087667.jpg',\n",
       "  './download/Asteroid\\\\4087662.jpg',\n",
       "  './download/Asteroid\\\\4087660.jpg',\n",
       "  './download/Asteroid\\\\4087647.jpg',\n",
       "  './download/Asteroid\\\\4087640.jpg',\n",
       "  './download/Asteroid\\\\4072352.jpg',\n",
       "  './download/Asteroid\\\\4069267.jpg',\n",
       "  './download/Asteroid\\\\4069263.jpg',\n",
       "  './download/Asteroid\\\\4065988.jpg',\n",
       "  './download/Asteroid\\\\4065983.jpg',\n",
       "  './download/Asteroid\\\\4065980.jpg',\n",
       "  './download/Asteroid\\\\4065978.jpg',\n",
       "  './download/Asteroid\\\\4042269.jpg',\n",
       "  './download/Asteroid\\\\4042265.jpg'],\n",
       " [])"
      ]
     },
     "execution_count": 9,
     "metadata": {},
     "output_type": "execute_result"
    }
   ],
   "source": [
    "waziLog.setMinDisplayLevel(1)\n",
    "waziDanbooru.downloadPosts(\n",
    "    page  = 3,                               # 页码 从 1 开始\n",
    "    tags  = \"asteroid_ill\",                  # 标签 没有就写空字符串\n",
    "    limit = 100,                               # 每页显示的数量\n",
    "    path  = \"./download/Asteroid\",           # 保存路径\n",
    "    key   = \"file_url\",                      # 获取关键字 填写 file_url 就从 file_url 这个关键词对应的值拿到图片地址 即原图 同理 preivew_url 就是预览图 sample_url 就是缩略图 默认 file_url\n",
    "    ext   = True,                            # 爬取的时候是否带上 Referer 字段，用于绕过反爬虫 默认 False\n",
    ")"
   ]
  }
 ],
 "metadata": {
  "kernelspec": {
   "display_name": "Python 3.10.8 ('pywazi')",
   "language": "python",
   "name": "python3"
  },
  "language_info": {
   "codemirror_mode": {
    "name": "ipython",
    "version": 3
   },
   "file_extension": ".py",
   "mimetype": "text/x-python",
   "name": "python",
   "nbconvert_exporter": "python",
   "pygments_lexer": "ipython3",
   "version": "3.10.8"
  },
  "orig_nbformat": 4,
  "vscode": {
   "interpreter": {
    "hash": "c4d1b5e946d0862ef6a8b3633655d76502f5667e2b917d8985174d3b404025aa"
   }
  }
 },
 "nbformat": 4,
 "nbformat_minor": 2
}
